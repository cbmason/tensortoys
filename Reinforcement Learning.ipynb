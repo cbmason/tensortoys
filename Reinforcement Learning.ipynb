{
 "cells": [
  {
   "cell_type": "markdown",
   "id": "18954b0d",
   "metadata": {},
   "source": [
    "## Reinforcement Learning\n",
    "\n",
    "In reinforcement learning, rather than feeding a model millions of examples, we let a model explore an environment.  "
   ]
  },
  {
   "cell_type": "markdown",
   "id": "fd5ea6b2",
   "metadata": {},
   "source": [
    "### Terminology\n",
    "\n",
    "**Environment:** In reinforcement learning tasks we have the notion of the environment, which is what our agent will explore.  An example of an environment in the case of training an AI to play Starcraft would encompass the game state, mechanics, and rules of the game.\n",
    "\n",
    "**Agent:** An agent is the entity that is exploring the environment.  In starcraft it would be the player\n",
    "\n",
    "**State:** The agent will always be in a certain \"state.\"  This would probably be the locations of the agent's units, the resources they have, maybe even camera position, etc.\n",
    "\n",
    "**Action:** Any interaction between the agent and the environment is an \"action.\"  Selecting a unit or pressing the \"spawn overlord\" key are examples of actions.\n",
    "\n",
    "**Reward:** Every action that our agent takes will result in a reward of some magnitude (positive or negative).  A-moving a group of mutas into a psi storm would result in a large negative reward.\n",
    "\n",
    "The most important part of reinforcement learning is determining how to reward the agent."
   ]
  },
  {
   "cell_type": "markdown",
   "id": "5524e9e0",
   "metadata": {},
   "source": [
    "### Q-Learning\n",
    "Essentially what Q-learning is is building a table or matrix-like data structure where each row is a state and each column is an action.\n",
    "| A1 | A2 | A3 | A4 |\n",
    "| -- | -- | -- | -- |\n",
    "| 0  | 0  | 10 | 5  |\n",
    "| 5  | 10 | 0  | 5  |\n",
    "| 10 | 5  | 0  | 0  |"
   ]
  },
  {
   "cell_type": "markdown",
   "id": "08246e46",
   "metadata": {},
   "source": [
    "An agent learns by exploring the environment and observing the reward from each action in each state.  It can either randomly pick an action or use the current Q-table to find the best action.  Towards the beginning of the exploration, the agent will mostly take random actions, and as time goes on it will gradually shift towards the Q-table.  If it leans too heavily on the Q-table too quickly, it can get trapped in a local maximum.\n",
    "The formula for updating the Q-table after each action is:\n",
    "> $ Q[state, action] = Q[state, action] + \\alpha * (reward + \\gamma * max(Q[newState, :]) - Q[state, action]) $\n",
    "\n",
    "where $\\alpha$ stands for the **Learning Rate** and $\\gamma$ stands for the **Discount Factor**"
   ]
  },
  {
   "cell_type": "markdown",
   "id": "3e68a8ac",
   "metadata": {},
   "source": [
    "#### Learning Rate\n",
    "The learning rate $\\alpha$ is a numeric constant that defines how much change is permitted on each Q-table update.  A high learning rate means that each update will introduce a large change to the current state/action value."
   ]
  },
  {
   "cell_type": "markdown",
   "id": "42d6f11b",
   "metadata": {},
   "source": [
    "#### Discount Factor $\\gamma$\n",
    "The discount factor is used to balance how much focus is put on the current action.  A high discount factor means that future rewards will be considered more heavily."
   ]
  },
  {
   "cell_type": "markdown",
   "id": "3f73844c",
   "metadata": {},
   "source": [
    "### Q Learning Example\n",
    "Here we will use the OpenAI Gym to practice Q-learning"
   ]
  },
  {
   "cell_type": "code",
   "execution_count": 1,
   "id": "f08acdd5",
   "metadata": {},
   "outputs": [],
   "source": [
    "import gymnasium as gym"
   ]
  },
  {
   "cell_type": "code",
   "execution_count": 2,
   "id": "ac26f1dd",
   "metadata": {},
   "outputs": [],
   "source": [
    "env = gym.make('FrozenLake-v1', render_mode=\"rgb_array\")"
   ]
  },
  {
   "cell_type": "code",
   "execution_count": 3,
   "id": "3b91e44d",
   "metadata": {},
   "outputs": [
    {
     "name": "stdout",
     "output_type": "stream",
     "text": [
      "16\n",
      "4\n"
     ]
    }
   ],
   "source": [
    "print(env.observation_space.n)\n",
    "print(env.action_space.n)"
   ]
  },
  {
   "cell_type": "code",
   "execution_count": 4,
   "id": "8991a200",
   "metadata": {},
   "outputs": [
    {
     "data": {
      "text/plain": [
       "(0, {'prob': 1})"
      ]
     },
     "execution_count": 4,
     "metadata": {},
     "output_type": "execute_result"
    }
   ],
   "source": [
    "env.reset()"
   ]
  },
  {
   "cell_type": "code",
   "execution_count": 5,
   "id": "c30ac682",
   "metadata": {},
   "outputs": [
    {
     "data": {
      "text/plain": [
       "array([[[180, 200, 230],\n",
       "        [180, 200, 230],\n",
       "        [180, 200, 230],\n",
       "        ...,\n",
       "        [180, 200, 230],\n",
       "        [180, 200, 230],\n",
       "        [180, 200, 230]],\n",
       "\n",
       "       [[180, 200, 230],\n",
       "        [204, 230, 255],\n",
       "        [204, 230, 255],\n",
       "        ...,\n",
       "        [204, 230, 255],\n",
       "        [204, 230, 255],\n",
       "        [180, 200, 230]],\n",
       "\n",
       "       [[180, 200, 230],\n",
       "        [235, 245, 249],\n",
       "        [204, 230, 255],\n",
       "        ...,\n",
       "        [204, 230, 255],\n",
       "        [204, 230, 255],\n",
       "        [180, 200, 230]],\n",
       "\n",
       "       ...,\n",
       "\n",
       "       [[180, 200, 230],\n",
       "        [235, 245, 249],\n",
       "        [235, 245, 249],\n",
       "        ...,\n",
       "        [204, 230, 255],\n",
       "        [235, 245, 249],\n",
       "        [180, 200, 230]],\n",
       "\n",
       "       [[180, 200, 230],\n",
       "        [235, 245, 249],\n",
       "        [235, 245, 249],\n",
       "        ...,\n",
       "        [204, 230, 255],\n",
       "        [204, 230, 255],\n",
       "        [180, 200, 230]],\n",
       "\n",
       "       [[180, 200, 230],\n",
       "        [180, 200, 230],\n",
       "        [180, 200, 230],\n",
       "        ...,\n",
       "        [180, 200, 230],\n",
       "        [180, 200, 230],\n",
       "        [180, 200, 230]]], dtype=uint8)"
      ]
     },
     "execution_count": 5,
     "metadata": {},
     "output_type": "execute_result"
    }
   ],
   "source": [
    "action = env.action_space.sample() # get a random action\n",
    "observation, reward, terminated, truncated, info = env.step(action)\n",
    "env.render()"
   ]
  },
  {
   "cell_type": "markdown",
   "id": "5de083d3",
   "metadata": {},
   "source": [
    "### Ok that was just playing around, now let's go for real"
   ]
  },
  {
   "cell_type": "code",
   "execution_count": 6,
   "id": "36329369",
   "metadata": {},
   "outputs": [
    {
     "name": "stdout",
     "output_type": "stream",
     "text": [
      "[[1.87043313e-01 9.57265286e-03 1.02669619e-02 1.05076313e-02]\n",
      " [2.60306680e-03 3.54484027e-03 4.64713483e-03 3.15159519e-01]\n",
      " [1.76340850e-01 1.85591063e-03 2.74241495e-03 4.45985277e-03]\n",
      " [1.40172721e-03 1.93037392e-03 3.18072505e-03 4.43367340e-03]\n",
      " [3.27105459e-01 2.99683640e-03 2.65572364e-03 3.83339501e-03]\n",
      " [0.00000000e+00 0.00000000e+00 0.00000000e+00 0.00000000e+00]\n",
      " [1.68884398e-03 1.98619997e-06 1.32867194e-06 4.21886220e-08]\n",
      " [0.00000000e+00 0.00000000e+00 0.00000000e+00 0.00000000e+00]\n",
      " [2.49410984e-03 3.31460055e-03 6.52447866e-03 5.07923845e-01]\n",
      " [6.97246405e-04 1.45759000e-01 1.81079665e-03 1.66612252e-03]\n",
      " [7.83196285e-01 2.49918710e-04 2.96716350e-04 1.85845680e-04]\n",
      " [0.00000000e+00 0.00000000e+00 0.00000000e+00 0.00000000e+00]\n",
      " [0.00000000e+00 0.00000000e+00 0.00000000e+00 0.00000000e+00]\n",
      " [2.24535531e-02 5.59701404e-02 7.72875093e-01 3.59427113e-02]\n",
      " [1.49175962e-01 9.62991968e-01 1.20025785e-01 1.07701007e-01]\n",
      " [0.00000000e+00 0.00000000e+00 0.00000000e+00 0.00000000e+00]]\n",
      "Average reward: 0.703142663350667:\n"
     ]
    }
   ],
   "source": [
    "import gymnasium as gym\n",
    "import numpy as np\n",
    "import time\n",
    "\n",
    "env = gym.make('FrozenLake-v1', render_mode=\"rgb_array\")\n",
    "STATES = env.observation_space.n\n",
    "ACTIONS = env.action_space.n\n",
    "Q = np.zeros((STATES, ACTIONS))\n",
    "\n",
    "EPISODES = 10000\n",
    "MAX_STEPS = 100\n",
    "\n",
    "LEARNING_RATE = 0.81\n",
    "GAMMA = 0.96\n",
    "\n",
    "RENDER = False\n",
    "\n",
    "epsilon = 0.9 # start with 90% chance to choose random action\n",
    "\n",
    "rewards = []\n",
    "\n",
    "for episode in range(EPISODES):\n",
    "    state = env.reset()[0]\n",
    "    for _ in range(MAX_STEPS):\n",
    "        if RENDER:\n",
    "            env.render()\n",
    "            \n",
    "        if np.random.uniform(0, 1) < epsilon:\n",
    "            action = env.action_space.sample()\n",
    "        else:\n",
    "            action = np.argmax(Q[state, :])\n",
    "            \n",
    "        next_state, reward, terminated, _, _ = env.step(action)\n",
    "        \n",
    "        Q[state, action] = Q[state, action] + LEARNING_RATE * (reward + GAMMA * np.max(Q[next_state, :]) - Q[state, action])\n",
    "        state = next_state\n",
    "        if terminated:\n",
    "            rewards.append(reward)\n",
    "            epsilon -= 0.001\n",
    "            break\n",
    "print(Q)\n",
    "print(f\"Average reward: {sum(rewards) / len(rewards)}:\")"
   ]
  },
  {
   "cell_type": "code",
   "execution_count": 7,
   "id": "59a3334b",
   "metadata": {},
   "outputs": [
    {
     "name": "stdout",
     "output_type": "stream",
     "text": [
      "15\n",
      "1\n"
     ]
    }
   ],
   "source": [
    "print(state)\n",
    "print(action)"
   ]
  },
  {
   "cell_type": "code",
   "execution_count": 8,
   "id": "6d1739ff",
   "metadata": {},
   "outputs": [
    {
     "data": {
      "image/png": "[encoded data removed]",
      "text/plain": [
       "<Figure size 640x480 with 1 Axes>"
      ]
     },
     "metadata": {},
     "output_type": "display_data"
    }
   ],
   "source": [
    "import matplotlib.pyplot as plt\n",
    "\n",
    "def get_average(values):\n",
    "    return sum(values)/len(values)\n",
    "\n",
    "avg_rewards = []\n",
    "for i in range(0, len(rewards), 100):\n",
    "    avg_rewards.append(get_average(rewards[i:i+100]))\n",
    "    \n",
    "plt.plot(avg_rewards)\n",
    "plt.ylabel('average reward')\n",
    "plt.xlabel('episodes (100\\'s)')\n",
    "plt.show()"
   ]
  },
  {
   "cell_type": "code",
   "execution_count": null,
   "id": "8feeacbc",
   "metadata": {},
   "outputs": [],
   "source": []
  }
 ],
 "metadata": {
  "kernelspec": {
   "display_name": "env",
   "language": "python",
   "name": "env"
  },
  "language_info": {
   "codemirror_mode": {
    "name": "ipython",
    "version": 3
   },
   "file_extension": ".py",
   "mimetype": "text/x-python",
   "name": "python",
   "nbconvert_exporter": "python",
   "pygments_lexer": "ipython3",
   "version": "3.10.12"
  }
 },
 "nbformat": 4,
 "nbformat_minor": 5
}
